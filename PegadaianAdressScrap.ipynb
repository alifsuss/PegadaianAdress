{
 "cells": [
  {
   "cell_type": "markdown",
   "metadata": {},
   "source": [
    "# PEGADAIAN Address Scrapping"
   ]
  },
  {
   "cell_type": "markdown",
   "metadata": {},
   "source": [
    "# Import Libraries\n",
    "### For web scrapping"
   ]
  },
  {
   "cell_type": "markdown",
   "metadata": {},
   "source": [
    "the data will be taken from imdb website: https://www.pegadaian.co.id/lokasi-cabang/page/1"
   ]
  },
  {
   "cell_type": "markdown",
   "metadata": {},
   "source": [
    "## Import Libraries"
   ]
  },
  {
   "cell_type": "code",
   "execution_count": 103,
   "metadata": {},
   "outputs": [],
   "source": [
    "import pandas as pd\n",
    "import numpy as np\n",
    "# import tensorflow as tf\n",
    "import matplotlib.pyplot as plt\n",
    "from requests import get\n",
    "from bs4 import BeautifulSoup as Soup\n",
    "from bs4 import NavigableString, Tag\n",
    "import time "
   ]
  },
  {
   "cell_type": "markdown",
   "metadata": {},
   "source": [
    "## Get the site necessity "
   ]
  },
  {
   "cell_type": "code",
   "execution_count": 3,
   "metadata": {},
   "outputs": [],
   "source": [
    "url = get(\"https://www.pegadaian.co.id/lokasi-cabang/page/1\")"
   ]
  },
  {
   "cell_type": "code",
   "execution_count": 4,
   "metadata": {},
   "outputs": [],
   "source": [
    "request = url.text"
   ]
  },
  {
   "cell_type": "markdown",
   "metadata": {},
   "source": [
    "### Parse the whole site "
   ]
  },
  {
   "cell_type": "code",
   "execution_count": 5,
   "metadata": {},
   "outputs": [],
   "source": [
    "total_soup = Soup(request,'html.parser')"
   ]
  },
  {
   "cell_type": "markdown",
   "metadata": {},
   "source": [
    "### Experiment First"
   ]
  },
  {
   "cell_type": "code",
   "execution_count": 46,
   "metadata": {},
   "outputs": [],
   "source": [
    "total_addresses = total_soup.find('div',{'class':'col-xl-8 col-md-7 col-sm-7 col-xs-12 col-12'}).findAll('div',{'class':'body-content-cabang'})"
   ]
  },
  {
   "cell_type": "code",
   "execution_count": 97,
   "metadata": {},
   "outputs": [
    {
     "data": {
      "text/plain": [
       "25"
      ]
     },
     "execution_count": 97,
     "metadata": {},
     "output_type": "execute_result"
    }
   ],
   "source": [
    "len(total_addresses)"
   ]
  },
  {
   "cell_type": "code",
   "execution_count": 66,
   "metadata": {},
   "outputs": [
    {
     "data": {
      "text/plain": [
       "'Wilayah 1 Medan'"
      ]
     },
     "execution_count": 66,
     "metadata": {},
     "output_type": "execute_result"
    }
   ],
   "source": [
    "# Kanwil\n",
    "total_addresses[1].h5.text"
   ]
  },
  {
   "cell_type": "code",
   "execution_count": 65,
   "metadata": {},
   "outputs": [
    {
     "data": {
      "text/plain": [
       "'Kantor Pusat (Konvensional)'"
      ]
     },
     "execution_count": 65,
     "metadata": {},
     "output_type": "execute_result"
    }
   ],
   "source": [
    "# Cabang\n",
    "total_addresses[1].p.text"
   ]
  },
  {
   "cell_type": "code",
   "execution_count": 85,
   "metadata": {},
   "outputs": [
    {
     "data": {
      "text/plain": [
       "'JALAN PEGADAIAN NO 112'"
      ]
     },
     "execution_count": 85,
     "metadata": {},
     "output_type": "execute_result"
    }
   ],
   "source": [
    "# Jalan\n",
    "total_addresses[1].find('div', {'class':'body-cabang'}).findAll('p')[0].text"
   ]
  },
  {
   "cell_type": "code",
   "execution_count": 87,
   "metadata": {},
   "outputs": [
    {
     "data": {
      "text/plain": [
       "'Polonia, Medan Polonia'"
      ]
     },
     "execution_count": 87,
     "metadata": {},
     "output_type": "execute_result"
    }
   ],
   "source": [
    "# Desa, Kecamatan\n",
    "total_addresses[1].find('div', {'class':'body-cabang'}).findAll('p')[1].text"
   ]
  },
  {
   "cell_type": "code",
   "execution_count": 89,
   "metadata": {},
   "outputs": [
    {
     "data": {
      "text/plain": [
       "'Medan, Sumatera Utara'"
      ]
     },
     "execution_count": 89,
     "metadata": {},
     "output_type": "execute_result"
    }
   ],
   "source": [
    "# Kota, Provinsi\n",
    "total_addresses[1].find('div', {'class':'body-cabang'}).findAll('p')[2].text"
   ]
  },
  {
   "cell_type": "code",
   "execution_count": 93,
   "metadata": {},
   "outputs": [
    {
     "data": {
      "text/plain": [
       "'0614567247'"
      ]
     },
     "execution_count": 93,
     "metadata": {},
     "output_type": "execute_result"
    }
   ],
   "source": [
    "# Telp\n",
    "total_addresses[1].find('div', {'class':'body-cabang'}).findAll('p')[3].text.replace('Telp. ','0')"
   ]
  },
  {
   "cell_type": "markdown",
   "metadata": {},
   "source": [
    "## Now to the Action "
   ]
  },
  {
   "cell_type": "code",
   "execution_count": null,
   "metadata": {},
   "outputs": [],
   "source": [
    "# Declare the number of pages that available, in this case its 165 max\n",
    "pages = 165\n",
    "\n",
    "#create empty lists \n",
    "Kanwil = []\n",
    "Cabang = []\n",
    "Jalan = []\n",
    "Des_Kec = []\n",
    "Kab_Prov = []\n",
    "Telp = []\n",
    "    \n",
    "for page in range(pages):\n",
    "    #declare the url and the page variable\n",
    "    url = get(\" https://www.pegadaian.co.id/lokasi-cabang/page/{}\".format(page+1), timeout = 600)\n",
    "    \n",
    "    #request all the content of the page in html\n",
    "    request = url.text\n",
    "    whole_soup = Soup(request,'html.parser')\n",
    "    \n",
    "    #Get all values under the body-content-cabang\n",
    "    whole_addresses = whole_soup.find('div',{'class':'col-xl-8 col-md-7 col-sm-7 col-xs-12 col-12'}).findAll('div',{'class':'body-content-cabang'})\n",
    "    \n",
    "    #find the number of addresses in one page\n",
    "    num_address = len(whole_addresses)\n",
    "    \n",
    "    #GET ALL PARAMETRES\n",
    "    for addr in whole_addresses:\n",
    "        #KANWIL\n",
    "        Kanwil.append(addr.h5.text)\n",
    "        \n",
    "        #CABANG\n",
    "        Cabang.append(addr.p.text)\n",
    "        \n",
    "        #JALAN\n",
    "        Jalan.append(addr.find('div', {'class':'body-cabang'}).findAll('p')[0].text)\n",
    "        \n",
    "        #Desa dan Kecamatan\n",
    "        Des_Kec.append(addr.find('div', {'class':'body-cabang'}).findAll('p')[1].text)\n",
    "        \n",
    "        #Kabupaten/Kota dan Provinsi\n",
    "        Kab_Prov.append(addr.find('div', {'class':'body-cabang'}).findAll('p')[1].text)\n",
    "        \n",
    "        #Telp\n",
    "        Telp.append(addr.find('div', {'class':'body-cabang'}).findAll('p')[3].text.replace('Telp. ','0'))\n",
    "    \n",
    "    time.sleep(1)\n",
    "\n",
    "        \n",
    "\n",
    "himpun =[Kanwil, Cabang, Jalan, Des_Kec, Kab_Prov, Telp]\n",
    "df1 = pd.DataFrame(himpun).T\n",
    "df1.columns = [\"kanwil\", \"cabang\", \"jalan\", \"des_kec\", \"kab_prov\", \"telepon\"]\n",
    "\n",
    "display(df1)"
   ]
  },
  {
   "cell_type": "code",
   "execution_count": null,
   "metadata": {},
   "outputs": [],
   "source": []
  }
 ],
 "metadata": {
  "kernelspec": {
   "display_name": "Python 3",
   "language": "python",
   "name": "python3"
  },
  "language_info": {
   "codemirror_mode": {
    "name": "ipython",
    "version": 3
   },
   "file_extension": ".py",
   "mimetype": "text/x-python",
   "name": "python",
   "nbconvert_exporter": "python",
   "pygments_lexer": "ipython3",
   "version": "3.8.5"
  }
 },
 "nbformat": 4,
 "nbformat_minor": 4
}
