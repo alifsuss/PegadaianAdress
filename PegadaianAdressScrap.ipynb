{
 "cells": [
  {
   "cell_type": "markdown",
   "metadata": {},
   "source": [
    "# PEGADAIAN Address Scrapping"
   ]
  },
  {
   "cell_type": "markdown",
   "metadata": {},
   "source": [
    "# Import Libraries\n",
    "### For web scrapping"
   ]
  },
  {
   "cell_type": "markdown",
   "metadata": {},
   "source": [
    "the data will be taken from imdb website: https://www.pegadaian.co.id/lokasi-cabang/page/1"
   ]
  },
  {
   "cell_type": "markdown",
   "metadata": {},
   "source": [
    "## Import Libraries"
   ]
  },
  {
   "cell_type": "code",
   "execution_count": 103,
   "metadata": {},
   "outputs": [],
   "source": [
    "import pandas as pd\n",
    "import numpy as np\n",
    "# import tensorflow as tf\n",
    "import matplotlib.pyplot as plt\n",
    "from requests import get\n",
    "from bs4 import BeautifulSoup as Soup\n",
    "from bs4 import NavigableString, Tag\n",
    "import time "
   ]
  },
  {
   "cell_type": "markdown",
   "metadata": {},
   "source": [
    "## Get the site necessity "
   ]
  },
  {
   "cell_type": "code",
   "execution_count": 3,
   "metadata": {},
   "outputs": [],
   "source": [
    "url = get(\"https://www.pegadaian.co.id/lokasi-cabang/page/1\")"
   ]
  },
  {
   "cell_type": "code",
   "execution_count": 4,
   "metadata": {},
   "outputs": [],
   "source": [
    "request = url.text"
   ]
  },
  {
   "cell_type": "markdown",
   "metadata": {},
   "source": [
    "### Parse the whole site "
   ]
  },
  {
   "cell_type": "code",
   "execution_count": 5,
   "metadata": {},
   "outputs": [],
   "source": [
    "total_soup = Soup(request,'html.parser')"
   ]
  },
  {
   "cell_type": "markdown",
   "metadata": {},
   "source": [
    "### Experiment First"
   ]
  },
  {
   "cell_type": "code",
   "execution_count": 46,
   "metadata": {},
   "outputs": [],
   "source": [
    "total_addresses = total_soup.find('div',{'class':'col-xl-8 col-md-7 col-sm-7 col-xs-12 col-12'}).findAll('div',{'class':'body-content-cabang'})"
   ]
  },
  {
   "cell_type": "code",
   "execution_count": 97,
   "metadata": {},
   "outputs": [
    {
     "data": {
      "text/plain": [
       "25"
      ]
     },
     "execution_count": 97,
     "metadata": {},
     "output_type": "execute_result"
    }
   ],
   "source": [
    "len(total_addresses)"
   ]
  },
  {
   "cell_type": "code",
   "execution_count": 66,
   "metadata": {},
   "outputs": [
    {
     "data": {
      "text/plain": [
       "'Wilayah 1 Medan'"
      ]
     },
     "execution_count": 66,
     "metadata": {},
     "output_type": "execute_result"
    }
   ],
   "source": [
    "# Kanwil\n",
    "total_addresses[1].h5.text"
   ]
  },
  {
   "cell_type": "code",
   "execution_count": 65,
   "metadata": {},
   "outputs": [
    {
     "data": {
      "text/plain": [
       "'Kantor Pusat (Konvensional)'"
      ]
     },
     "execution_count": 65,
     "metadata": {},
     "output_type": "execute_result"
    }
   ],
   "source": [
    "# Cabang\n",
    "total_addresses[1].p.text"
   ]
  },
  {
   "cell_type": "code",
   "execution_count": 85,
   "metadata": {},
   "outputs": [
    {
     "data": {
      "text/plain": [
       "'JALAN PEGADAIAN NO 112'"
      ]
     },
     "execution_count": 85,
     "metadata": {},
     "output_type": "execute_result"
    }
   ],
   "source": [
    "# Jalan\n",
    "total_addresses[1].find('div', {'class':'body-cabang'}).findAll('p')[0].text"
   ]
  },
  {
   "cell_type": "code",
   "execution_count": 87,
   "metadata": {},
   "outputs": [
    {
     "data": {
      "text/plain": [
       "'Polonia, Medan Polonia'"
      ]
     },
     "execution_count": 87,
     "metadata": {},
     "output_type": "execute_result"
    }
   ],
   "source": [
    "# Desa, Kecamatan\n",
    "total_addresses[1].find('div', {'class':'body-cabang'}).findAll('p')[1].text"
   ]
  },
  {
   "cell_type": "code",
   "execution_count": 89,
   "metadata": {},
   "outputs": [
    {
     "data": {
      "text/plain": [
       "'Medan, Sumatera Utara'"
      ]
     },
     "execution_count": 89,
     "metadata": {},
     "output_type": "execute_result"
    }
   ],
   "source": [
    "# Kota, Provinsi\n",
    "total_addresses[1].find('div', {'class':'body-cabang'}).findAll('p')[2].text"
   ]
  },
  {
   "cell_type": "code",
   "execution_count": 93,
   "metadata": {},
   "outputs": [
    {
     "data": {
      "text/plain": [
       "'0614567247'"
      ]
     },
     "execution_count": 93,
     "metadata": {},
     "output_type": "execute_result"
    }
   ],
   "source": [
    "# Telp\n",
    "total_addresses[1].find('div', {'class':'body-cabang'}).findAll('p')[3].text.replace('Telp. ','0')"
   ]
  },
  {
   "cell_type": "markdown",
   "metadata": {},
   "source": [
    "## Now to the Action "
   ]
  },
  {
   "cell_type": "code",
   "execution_count": 125,
   "metadata": {
    "scrolled": true
   },
   "outputs": [
    {
     "name": "stdout",
     "output_type": "stream",
     "text": [
      "accessing page  1\n",
      "accessing page  2\n",
      "accessing page  3\n",
      "accessing page  4\n",
      "accessing page  5\n",
      "accessing page  6\n",
      "accessing page  7\n",
      "accessing page  8\n",
      "accessing page  9\n",
      "accessing page  10\n",
      "accessing page  11\n",
      "accessing page  12\n",
      "accessing page  13\n",
      "accessing page  14\n",
      "accessing page  15\n",
      "accessing page  16\n",
      "accessing page  17\n",
      "accessing page  18\n",
      "accessing page  19\n",
      "accessing page  20\n",
      "accessing page  21\n",
      "accessing page  22\n",
      "accessing page  23\n",
      "accessing page  24\n",
      "accessing page  25\n",
      "accessing page  26\n",
      "accessing page  27\n",
      "accessing page  28\n",
      "accessing page  29\n",
      "accessing page  30\n",
      "accessing page  31\n",
      "accessing page  32\n",
      "accessing page  33\n",
      "accessing page  34\n",
      "accessing page  35\n",
      "accessing page  36\n",
      "accessing page  37\n",
      "accessing page  38\n",
      "accessing page  39\n",
      "accessing page  40\n",
      "accessing page  41\n",
      "accessing page  42\n",
      "accessing page  43\n",
      "accessing page  44\n",
      "accessing page  45\n",
      "accessing page  46\n",
      "accessing page  47\n",
      "accessing page  48\n",
      "accessing page  49\n",
      "accessing page  50\n",
      "accessing page  51\n",
      "accessing page  52\n",
      "accessing page  53\n",
      "accessing page  54\n",
      "accessing page  55\n",
      "accessing page  56\n",
      "accessing page  57\n",
      "accessing page  58\n",
      "accessing page  59\n",
      "accessing page  60\n",
      "accessing page  61\n",
      "accessing page  62\n",
      "accessing page  63\n",
      "accessing page  64\n",
      "accessing page  65\n",
      "accessing page  66\n",
      "accessing page  67\n",
      "accessing page  68\n",
      "accessing page  69\n",
      "accessing page  70\n",
      "accessing page  71\n",
      "accessing page  72\n",
      "accessing page  73\n",
      "accessing page  74\n",
      "accessing page  75\n",
      "accessing page  76\n",
      "accessing page  77\n",
      "accessing page  78\n",
      "accessing page  79\n",
      "accessing page  80\n",
      "accessing page  81\n",
      "accessing page  82\n",
      "accessing page  83\n",
      "accessing page  84\n",
      "accessing page  85\n",
      "accessing page  86\n",
      "accessing page  87\n",
      "accessing page  88\n",
      "accessing page  89\n",
      "accessing page  90\n",
      "accessing page  91\n",
      "accessing page  92\n",
      "accessing page  93\n",
      "accessing page  94\n",
      "accessing page  95\n",
      "accessing page  96\n",
      "accessing page  97\n",
      "accessing page  98\n",
      "accessing page  99\n",
      "accessing page  100\n",
      "accessing page  101\n",
      "accessing page  102\n",
      "accessing page  103\n",
      "accessing page  104\n",
      "accessing page  105\n",
      "accessing page  106\n",
      "accessing page  107\n",
      "accessing page  108\n",
      "accessing page  109\n",
      "accessing page  110\n",
      "accessing page  111\n",
      "accessing page  112\n",
      "accessing page  113\n",
      "accessing page  114\n",
      "accessing page  115\n",
      "accessing page  116\n",
      "accessing page  117\n",
      "accessing page  118\n",
      "accessing page  119\n",
      "accessing page  120\n",
      "accessing page  121\n",
      "accessing page  122\n",
      "accessing page  123\n",
      "accessing page  124\n",
      "accessing page  125\n",
      "accessing page  126\n",
      "accessing page  127\n",
      "accessing page  128\n",
      "accessing page  129\n",
      "accessing page  130\n",
      "accessing page  131\n",
      "accessing page  132\n",
      "accessing page  133\n",
      "accessing page  134\n",
      "accessing page  135\n",
      "accessing page  136\n",
      "accessing page  137\n",
      "accessing page  138\n",
      "accessing page  139\n",
      "accessing page  140\n",
      "accessing page  141\n",
      "accessing page  142\n",
      "accessing page  143\n",
      "accessing page  144\n",
      "accessing page  145\n",
      "accessing page  146\n",
      "accessing page  147\n",
      "accessing page  148\n",
      "accessing page  149\n",
      "accessing page  150\n",
      "accessing page  151\n",
      "accessing page  152\n",
      "accessing page  153\n",
      "accessing page  154\n",
      "accessing page  155\n",
      "accessing page  156\n",
      "accessing page  157\n",
      "accessing page  158\n",
      "accessing page  159\n",
      "accessing page  160\n",
      "accessing page  161\n",
      "accessing page  162\n",
      "accessing page  163\n",
      "accessing page  164\n",
      "accessing page  165\n"
     ]
    }
   ],
   "source": [
    "# Declare the number of pages that available, in this case its 165 max\n",
    "pages = 165\n",
    "\n",
    "headers = {\n",
    "    'User-Agent': 'Mozilla/5.0 (Windows NT 10.0; Win64; x64; rv:78.0) Gecko/20100101 Firefox/78.0'\n",
    "}\n",
    "\n",
    "#create empty lists \n",
    "Kanwil = []\n",
    "Cabang = []\n",
    "Jalan = []\n",
    "Des_Kec = []\n",
    "Kab_Prov = []\n",
    "Telp = []\n",
    "\n",
    "for page in range(pages):\n",
    "    print(\"accessing page \", page+1)\n",
    "    \n",
    "    #declare the url and the page variable\n",
    "    url = get(\" https://www.pegadaian.co.id/lokasi-cabang/page/{}\".format(page+1), headers=headers)\n",
    "    \n",
    "    #request all the content of the page in html\n",
    "    request = url.text\n",
    "    whole_soup = Soup(request,'html.parser')\n",
    "    \n",
    "    #Get all values under the body-content-cabang\n",
    "    whole_addresses = whole_soup.find('div',{'class':'col-xl-8 col-md-7 col-sm-7 col-xs-12 col-12'}).findAll('div',{'class':'body-content-cabang'})\n",
    "    \n",
    "    #find the number of addresses in one page\n",
    "    num_address = len(whole_addresses)\n",
    "    \n",
    "    #GET ALL PARAMETRES\n",
    "    for addr in whole_addresses:\n",
    "        #KANWIL\n",
    "        Kanwil.append(addr.h5.text)\n",
    "        \n",
    "        #CABANG\n",
    "        Cabang.append(addr.p.text)\n",
    "        \n",
    "        #JALAN\n",
    "        Jalan.append(addr.find('div', {'class':'body-cabang'}).findAll('p')[0].text)\n",
    "        \n",
    "        #Desa dan Kecamatan\n",
    "        Des_Kec.append(addr.find('div', {'class':'body-cabang'}).findAll('p')[1].text)\n",
    "        \n",
    "        #Kabupaten/Kota dan Provinsi\n",
    "        Kab_Prov.append(addr.find('div', {'class':'body-cabang'}).findAll('p')[1].text)\n",
    "        \n",
    "        #Telp\n",
    "        Telp.append(addr.find('div', {'class':'body-cabang'}).findAll('p')[3].text.replace('Telp. ','0'))\n",
    "\n",
    "    time.sleep(3)"
   ]
  },
  {
   "cell_type": "code",
   "execution_count": 128,
   "metadata": {},
   "outputs": [
    {
     "data": {
      "text/html": [
       "<div>\n",
       "<style scoped>\n",
       "    .dataframe tbody tr th:only-of-type {\n",
       "        vertical-align: middle;\n",
       "    }\n",
       "\n",
       "    .dataframe tbody tr th {\n",
       "        vertical-align: top;\n",
       "    }\n",
       "\n",
       "    .dataframe thead th {\n",
       "        text-align: right;\n",
       "    }\n",
       "</style>\n",
       "<table border=\"1\" class=\"dataframe\">\n",
       "  <thead>\n",
       "    <tr style=\"text-align: right;\">\n",
       "      <th></th>\n",
       "      <th>kanwil</th>\n",
       "      <th>cabang</th>\n",
       "      <th>jalan</th>\n",
       "      <th>des_kec</th>\n",
       "      <th>kab_prov</th>\n",
       "      <th>telepon</th>\n",
       "    </tr>\n",
       "  </thead>\n",
       "  <tbody>\n",
       "    <tr>\n",
       "      <th>0</th>\n",
       "      <td>Kantor Pusat (Konvensional)</td>\n",
       "      <td>N/A</td>\n",
       "      <td>JALAN KRAMAT RAYA NO 162</td>\n",
       "      <td>Kenari, Senen</td>\n",
       "      <td>Kenari, Senen</td>\n",
       "      <td>0213155550</td>\n",
       "    </tr>\n",
       "    <tr>\n",
       "      <th>1</th>\n",
       "      <td>Wilayah 1 Medan</td>\n",
       "      <td>Kantor Pusat (Konvensional)</td>\n",
       "      <td>JALAN PEGADAIAN NO 112</td>\n",
       "      <td>Polonia, Medan Polonia</td>\n",
       "      <td>Polonia, Medan Polonia</td>\n",
       "      <td>0614567247</td>\n",
       "    </tr>\n",
       "    <tr>\n",
       "      <th>2</th>\n",
       "      <td>Wilayah 2 Pekanbaru</td>\n",
       "      <td>Kantor Pusat (Konvensional)</td>\n",
       "      <td>JALAN JEND. SUDIRMAN NO. 167 A-B</td>\n",
       "      <td>Simpang Empat, Pekanbaru Kota</td>\n",
       "      <td>Simpang Empat, Pekanbaru Kota</td>\n",
       "      <td>076139195</td>\n",
       "    </tr>\n",
       "    <tr>\n",
       "      <th>3</th>\n",
       "      <td>Wilayah 3 Palembang</td>\n",
       "      <td>Kantor Pusat (Konvensional)</td>\n",
       "      <td>JL.MERDEKA NO.11</td>\n",
       "      <td>19 Ilir, Bukit Kecil</td>\n",
       "      <td>19 Ilir, Bukit Kecil</td>\n",
       "      <td>0711361529</td>\n",
       "    </tr>\n",
       "    <tr>\n",
       "      <th>4</th>\n",
       "      <td>Wilayah 4 Balikpapan</td>\n",
       "      <td>Kantor Pusat (Konvensional)</td>\n",
       "      <td>JALAN JENDERAL SUDIRMAN STALKUDA</td>\n",
       "      <td>Klandasan Ulu, Balikpapan Selatan</td>\n",
       "      <td>Klandasan Ulu, Balikpapan Selatan</td>\n",
       "      <td>0542762002</td>\n",
       "    </tr>\n",
       "    <tr>\n",
       "      <th>...</th>\n",
       "      <td>...</td>\n",
       "      <td>...</td>\n",
       "      <td>...</td>\n",
       "      <td>...</td>\n",
       "      <td>...</td>\n",
       "      <td>...</td>\n",
       "    </tr>\n",
       "    <tr>\n",
       "      <th>4100</th>\n",
       "      <td>UPS KAUMAN MALANG</td>\n",
       "      <td>CPS LANDUNGSARI</td>\n",
       "      <td>JALAN KAHURIPAN NO.16 A</td>\n",
       "      <td>Klojen, Klojen</td>\n",
       "      <td>Klojen, Klojen</td>\n",
       "      <td>082247180071</td>\n",
       "    </tr>\n",
       "    <tr>\n",
       "      <th>4101</th>\n",
       "      <td>CPS A YANI</td>\n",
       "      <td>Wilayah 12 Syariah Surabaya</td>\n",
       "      <td>JALAN A.YANI NO 76 A</td>\n",
       "      <td>Kepatihan, Kaliwates</td>\n",
       "      <td>Kepatihan, Kaliwates</td>\n",
       "      <td>0331420048</td>\n",
       "    </tr>\n",
       "    <tr>\n",
       "      <th>4102</th>\n",
       "      <td>UPS PASAR TANJUNG</td>\n",
       "      <td>CPS A YANI</td>\n",
       "      <td>JL. IMAM BONJOL NO. KAV A5 DEPAN TERMINAL BOND...</td>\n",
       "      <td>Kademangan, Bondowoso</td>\n",
       "      <td>Kademangan, Bondowoso</td>\n",
       "      <td>085258785212</td>\n",
       "    </tr>\n",
       "    <tr>\n",
       "      <th>4103</th>\n",
       "      <td>UPS KARIMATA</td>\n",
       "      <td>CPS A YANI</td>\n",
       "      <td>JALAN KARIMATA 97 LK GUMUK KERANG</td>\n",
       "      <td>Sumbersari, Sumber Sari</td>\n",
       "      <td>Sumbersari, Sumber Sari</td>\n",
       "      <td>0331321625</td>\n",
       "    </tr>\n",
       "    <tr>\n",
       "      <th>4104</th>\n",
       "      <td>UPS SIMPANG LIMA BANYUWANGI</td>\n",
       "      <td>CPS A YANI</td>\n",
       "      <td>JALAN MT HARYONO NO.68</td>\n",
       "      <td>Kepatihan, Banyuwangi</td>\n",
       "      <td>Kepatihan, Banyuwangi</td>\n",
       "      <td>0333411549</td>\n",
       "    </tr>\n",
       "  </tbody>\n",
       "</table>\n",
       "<p>4105 rows × 6 columns</p>\n",
       "</div>"
      ],
      "text/plain": [
       "                           kanwil                       cabang  \\\n",
       "0     Kantor Pusat (Konvensional)                          N/A   \n",
       "1                 Wilayah 1 Medan  Kantor Pusat (Konvensional)   \n",
       "2             Wilayah 2 Pekanbaru  Kantor Pusat (Konvensional)   \n",
       "3             Wilayah 3 Palembang  Kantor Pusat (Konvensional)   \n",
       "4            Wilayah 4 Balikpapan  Kantor Pusat (Konvensional)   \n",
       "...                           ...                          ...   \n",
       "4100            UPS KAUMAN MALANG              CPS LANDUNGSARI   \n",
       "4101                   CPS A YANI  Wilayah 12 Syariah Surabaya   \n",
       "4102            UPS PASAR TANJUNG                   CPS A YANI   \n",
       "4103                 UPS KARIMATA                   CPS A YANI   \n",
       "4104  UPS SIMPANG LIMA BANYUWANGI                   CPS A YANI   \n",
       "\n",
       "                                                  jalan  \\\n",
       "0                              JALAN KRAMAT RAYA NO 162   \n",
       "1                                JALAN PEGADAIAN NO 112   \n",
       "2                      JALAN JEND. SUDIRMAN NO. 167 A-B   \n",
       "3                                      JL.MERDEKA NO.11   \n",
       "4                      JALAN JENDERAL SUDIRMAN STALKUDA   \n",
       "...                                                 ...   \n",
       "4100                            JALAN KAHURIPAN NO.16 A   \n",
       "4101                               JALAN A.YANI NO 76 A   \n",
       "4102  JL. IMAM BONJOL NO. KAV A5 DEPAN TERMINAL BOND...   \n",
       "4103                  JALAN KARIMATA 97 LK GUMUK KERANG   \n",
       "4104                             JALAN MT HARYONO NO.68   \n",
       "\n",
       "                                des_kec                           kab_prov  \\\n",
       "0                         Kenari, Senen                      Kenari, Senen   \n",
       "1                Polonia, Medan Polonia             Polonia, Medan Polonia   \n",
       "2         Simpang Empat, Pekanbaru Kota      Simpang Empat, Pekanbaru Kota   \n",
       "3                  19 Ilir, Bukit Kecil               19 Ilir, Bukit Kecil   \n",
       "4     Klandasan Ulu, Balikpapan Selatan  Klandasan Ulu, Balikpapan Selatan   \n",
       "...                                 ...                                ...   \n",
       "4100                     Klojen, Klojen                     Klojen, Klojen   \n",
       "4101               Kepatihan, Kaliwates               Kepatihan, Kaliwates   \n",
       "4102              Kademangan, Bondowoso              Kademangan, Bondowoso   \n",
       "4103            Sumbersari, Sumber Sari            Sumbersari, Sumber Sari   \n",
       "4104              Kepatihan, Banyuwangi              Kepatihan, Banyuwangi   \n",
       "\n",
       "           telepon  \n",
       "0       0213155550  \n",
       "1       0614567247  \n",
       "2        076139195  \n",
       "3       0711361529  \n",
       "4       0542762002  \n",
       "...            ...  \n",
       "4100  082247180071  \n",
       "4101    0331420048  \n",
       "4102  085258785212  \n",
       "4103    0331321625  \n",
       "4104    0333411549  \n",
       "\n",
       "[4105 rows x 6 columns]"
      ]
     },
     "metadata": {},
     "output_type": "display_data"
    }
   ],
   "source": [
    "himpun =[Kanwil, Cabang, Jalan, Des_Kec, Kab_Prov, Telp]\n",
    "df = pd.DataFrame(himpun).T\n",
    "df.columns = [\"kanwil\", \"cabang\", \"jalan\", \"des_kec\", \"kab_prov\", \"telepon\"]\n",
    "\n",
    "display(df)"
   ]
  },
  {
   "cell_type": "code",
   "execution_count": 130,
   "metadata": {},
   "outputs": [],
   "source": [
    "df.to_csv('pegadaian_address.csv')"
   ]
  },
  {
   "cell_type": "code",
   "execution_count": null,
   "metadata": {},
   "outputs": [],
   "source": []
  }
 ],
 "metadata": {
  "kernelspec": {
   "display_name": "Python 3",
   "language": "python",
   "name": "python3"
  },
  "language_info": {
   "codemirror_mode": {
    "name": "ipython",
    "version": 3
   },
   "file_extension": ".py",
   "mimetype": "text/x-python",
   "name": "python",
   "nbconvert_exporter": "python",
   "pygments_lexer": "ipython3",
   "version": "3.8.5"
  }
 },
 "nbformat": 4,
 "nbformat_minor": 4
}
